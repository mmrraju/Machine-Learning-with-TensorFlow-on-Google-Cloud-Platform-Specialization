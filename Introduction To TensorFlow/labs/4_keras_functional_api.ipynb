{
 "cells": [
  {
   "cell_type": "markdown",
   "metadata": {},
   "source": [
    "# Introducing the Keras Functional API\n",
    "\n",
    "**Learning Objectives**\n",
    "  1. Understand embeddings and how to create them with the feature column API\n",
    "  1. Understand Deep and Wide models and when to use them\n",
    "  1. Understand the Keras functional API and how to build a deep and wide model with it\n",
    "\n",
    "## Introduction\n",
    "\n",
    "In the last notebook, we learned about the Keras Sequential API. The [Keras Functional API](https://www.tensorflow.org/guide/keras#functional_api) provides an alternate way of building models which is more flexible. With the Functional API, we can build models with more complex topologies, multiple input or output layers, shared layers or non-sequential data flows (e.g. residual layers).\n",
    "\n",
    "In this notebook we'll use what we learned about feature columns to build a Wide & Deep model. Recall, that the idea behind Wide & Deep models is to join the two methods of learning through memorization and generalization by making a wide linear model and a deep learning model to accommodate both. You can have a look at the original research paper here: [Wide & Deep Learning for Recommender Systems](https://arxiv.org/abs/1606.07792).\n",
    "\n",
    "<img src='assets/wide_deep.png' width='80%'>\n",
    "<sup>(image: https://ai.googleblog.com/2016/06/wide-deep-learning-better-together-with.html)</sup>\n",
    "\n",
    "The Wide part of the model is associated with the memory element. In this case, we train a linear model with a wide set of crossed features and learn the correlation of this related data with the assigned label. The Deep part of the model is associated with the generalization element where we use embedding vectors for features. The best embeddings are then learned through the training process. While both of these methods can work well alone, Wide & Deep models excel by combining these techniques together.\n",
    "\n",
    "Each learning objective will correspond to a __#TODO__  in this student lab notebook -- try to complete this notebook first and then review the [solution notebook](https://github.com/GoogleCloudPlatform/training-data-analyst/blob/master/courses/machine_learning/deepdive2/introduction_to_tensorflow/solutions/4_keras_functional_api.ipynb)\n"
   ]
  },
  {
   "cell_type": "code",
   "execution_count": 1,
   "metadata": {},
   "outputs": [],
   "source": [
    "# Use the chown command to change the ownership of the repository.\n",
    "!sudo chown -R jupyter:jupyter /home/jupyter/training-data-analyst"
   ]
  },
  {
   "cell_type": "code",
   "execution_count": 2,
   "metadata": {},
   "outputs": [
    {
     "name": "stdout",
     "output_type": "stream",
     "text": [
      "Collecting tensorflow==2.3\n",
      "  Downloading tensorflow-2.3.0-cp37-cp37m-manylinux2010_x86_64.whl (320.4 MB)\n",
      "\u001b[K     |████████████████████████████████| 320.4 MB 31 kB/s s eta 0:00:01 0:00:02\n",
      "\u001b[?25hCollecting scipy==1.4.1\n",
      "  Downloading scipy-1.4.1-cp37-cp37m-manylinux1_x86_64.whl (26.1 MB)\n",
      "\u001b[K     |████████████████████████████████| 26.1 MB 47.0 MB/s eta 0:00:01\n",
      "\u001b[?25hRequirement already satisfied: h5py<2.11.0,>=2.10.0 in /opt/conda/lib/python3.7/site-packages (from tensorflow==2.3) (2.10.0)\n",
      "Requirement already satisfied: tensorflow-estimator<2.4.0,>=2.3.0 in /opt/conda/lib/python3.7/site-packages (from tensorflow==2.3) (2.3.0)\n",
      "Requirement already satisfied: wrapt>=1.11.1 in /opt/conda/lib/python3.7/site-packages (from tensorflow==2.3) (1.12.1)\n",
      "Requirement already satisfied: termcolor>=1.1.0 in /opt/conda/lib/python3.7/site-packages (from tensorflow==2.3) (1.1.0)\n",
      "Requirement already satisfied: grpcio>=1.8.6 in /opt/conda/lib/python3.7/site-packages (from tensorflow==2.3) (1.37.1)\n",
      "Collecting numpy<1.19.0,>=1.16.0\n",
      "  Downloading numpy-1.18.5-cp37-cp37m-manylinux1_x86_64.whl (20.1 MB)\n",
      "\u001b[K     |████████████████████████████████| 20.1 MB 70.1 MB/s eta 0:00:01\n",
      "\u001b[?25hRequirement already satisfied: protobuf>=3.9.2 in /opt/conda/lib/python3.7/site-packages (from tensorflow==2.3) (3.16.0)\n",
      "Requirement already satisfied: gast==0.3.3 in /opt/conda/lib/python3.7/site-packages (from tensorflow==2.3) (0.3.3)\n",
      "Requirement already satisfied: google-pasta>=0.1.8 in /opt/conda/lib/python3.7/site-packages (from tensorflow==2.3) (0.2.0)\n",
      "Requirement already satisfied: keras-preprocessing<1.2,>=1.1.1 in /opt/conda/lib/python3.7/site-packages (from tensorflow==2.3) (1.1.2)\n",
      "Requirement already satisfied: wheel>=0.26 in /opt/conda/lib/python3.7/site-packages (from tensorflow==2.3) (0.36.2)\n",
      "Requirement already satisfied: six>=1.12.0 in /opt/conda/lib/python3.7/site-packages (from tensorflow==2.3) (1.16.0)\n",
      "Requirement already satisfied: opt-einsum>=2.3.2 in /opt/conda/lib/python3.7/site-packages (from tensorflow==2.3) (3.3.0)\n",
      "Requirement already satisfied: astunparse==1.6.3 in /opt/conda/lib/python3.7/site-packages (from tensorflow==2.3) (1.6.3)\n",
      "Requirement already satisfied: tensorboard<3,>=2.3.0 in /opt/conda/lib/python3.7/site-packages (from tensorflow==2.3) (2.3.0)\n",
      "Requirement already satisfied: absl-py>=0.7.0 in /opt/conda/lib/python3.7/site-packages (from tensorflow==2.3) (0.10.0)\n",
      "Requirement already satisfied: setuptools>=41.0.0 in /opt/conda/lib/python3.7/site-packages (from tensorboard<3,>=2.3.0->tensorflow==2.3) (49.6.0.post20210108)\n",
      "Requirement already satisfied: requests<3,>=2.21.0 in /opt/conda/lib/python3.7/site-packages (from tensorboard<3,>=2.3.0->tensorflow==2.3) (2.25.1)\n",
      "Requirement already satisfied: werkzeug>=0.11.15 in /opt/conda/lib/python3.7/site-packages (from tensorboard<3,>=2.3.0->tensorflow==2.3) (2.0.0)\n",
      "Requirement already satisfied: tensorboard-plugin-wit>=1.6.0 in /opt/conda/lib/python3.7/site-packages (from tensorboard<3,>=2.3.0->tensorflow==2.3) (1.8.0)\n",
      "Requirement already satisfied: google-auth-oauthlib<0.5,>=0.4.1 in /opt/conda/lib/python3.7/site-packages (from tensorboard<3,>=2.3.0->tensorflow==2.3) (0.4.4)\n",
      "Requirement already satisfied: markdown>=2.6.8 in /opt/conda/lib/python3.7/site-packages (from tensorboard<3,>=2.3.0->tensorflow==2.3) (3.3.4)\n",
      "Requirement already satisfied: google-auth<2,>=1.6.3 in /opt/conda/lib/python3.7/site-packages (from tensorboard<3,>=2.3.0->tensorflow==2.3) (1.30.0)\n",
      "Requirement already satisfied: pyasn1-modules>=0.2.1 in /opt/conda/lib/python3.7/site-packages (from google-auth<2,>=1.6.3->tensorboard<3,>=2.3.0->tensorflow==2.3) (0.2.7)\n",
      "Requirement already satisfied: cachetools<5.0,>=2.0.0 in /opt/conda/lib/python3.7/site-packages (from google-auth<2,>=1.6.3->tensorboard<3,>=2.3.0->tensorflow==2.3) (4.2.2)\n",
      "Requirement already satisfied: rsa<5,>=3.1.4 in /opt/conda/lib/python3.7/site-packages (from google-auth<2,>=1.6.3->tensorboard<3,>=2.3.0->tensorflow==2.3) (4.7.2)\n",
      "Requirement already satisfied: requests-oauthlib>=0.7.0 in /opt/conda/lib/python3.7/site-packages (from google-auth-oauthlib<0.5,>=0.4.1->tensorboard<3,>=2.3.0->tensorflow==2.3) (1.3.0)\n",
      "Requirement already satisfied: importlib-metadata in /opt/conda/lib/python3.7/site-packages (from markdown>=2.6.8->tensorboard<3,>=2.3.0->tensorflow==2.3) (4.0.1)\n",
      "Requirement already satisfied: pyasn1<0.5.0,>=0.4.6 in /opt/conda/lib/python3.7/site-packages (from pyasn1-modules>=0.2.1->google-auth<2,>=1.6.3->tensorboard<3,>=2.3.0->tensorflow==2.3) (0.4.8)\n",
      "Requirement already satisfied: idna<3,>=2.5 in /opt/conda/lib/python3.7/site-packages (from requests<3,>=2.21.0->tensorboard<3,>=2.3.0->tensorflow==2.3) (2.10)\n",
      "Requirement already satisfied: urllib3<1.27,>=1.21.1 in /opt/conda/lib/python3.7/site-packages (from requests<3,>=2.21.0->tensorboard<3,>=2.3.0->tensorflow==2.3) (1.26.4)\n",
      "Requirement already satisfied: chardet<5,>=3.0.2 in /opt/conda/lib/python3.7/site-packages (from requests<3,>=2.21.0->tensorboard<3,>=2.3.0->tensorflow==2.3) (4.0.0)\n",
      "Requirement already satisfied: certifi>=2017.4.17 in /opt/conda/lib/python3.7/site-packages (from requests<3,>=2.21.0->tensorboard<3,>=2.3.0->tensorflow==2.3) (2020.12.5)\n",
      "Requirement already satisfied: oauthlib>=3.0.0 in /opt/conda/lib/python3.7/site-packages (from requests-oauthlib>=0.7.0->google-auth-oauthlib<0.5,>=0.4.1->tensorboard<3,>=2.3.0->tensorflow==2.3) (3.0.1)\n",
      "Requirement already satisfied: typing-extensions>=3.6.4 in /opt/conda/lib/python3.7/site-packages (from importlib-metadata->markdown>=2.6.8->tensorboard<3,>=2.3.0->tensorflow==2.3) (3.7.4.3)\n",
      "Requirement already satisfied: zipp>=0.5 in /opt/conda/lib/python3.7/site-packages (from importlib-metadata->markdown>=2.6.8->tensorboard<3,>=2.3.0->tensorflow==2.3) (3.4.1)\n",
      "Installing collected packages: numpy, scipy, tensorflow\n",
      "  Attempting uninstall: numpy\n",
      "    Found existing installation: numpy 1.19.5\n",
      "    Uninstalling numpy-1.19.5:\n",
      "      Successfully uninstalled numpy-1.19.5\n",
      "  Attempting uninstall: scipy\n",
      "    Found existing installation: scipy 1.6.3\n",
      "    Uninstalling scipy-1.6.3:\n",
      "      Successfully uninstalled scipy-1.6.3\n",
      "  Attempting uninstall: tensorflow\n",
      "    Found existing installation: tensorflow 2.3.2\n",
      "    Uninstalling tensorflow-2.3.2:\n",
      "      Successfully uninstalled tensorflow-2.3.2\n",
      "\u001b[31mERROR: pip's dependency resolver does not currently take into account all the packages that are installed. This behaviour is the source of the following dependency conflicts.\n",
      "tfx 0.26.3 requires attrs<21,>=19.3.0, but you have attrs 21.2.0 which is incompatible.\n",
      "tfx 0.26.3 requires docker<5,>=4.1, but you have docker 5.0.0 which is incompatible.\n",
      "tfx 0.26.3 requires google-api-python-client<2,>=1.7.8, but you have google-api-python-client 2.3.0 which is incompatible.\n",
      "tfx 0.26.3 requires kubernetes<12,>=10.0.1, but you have kubernetes 12.0.1 which is incompatible.\n",
      "tfx 0.26.3 requires pyarrow<0.18,>=0.17, but you have pyarrow 4.0.0 which is incompatible.\n",
      "tfx-bsl 0.26.1 requires google-api-python-client<2,>=1.7.11, but you have google-api-python-client 2.3.0 which is incompatible.\n",
      "tfx-bsl 0.26.1 requires pyarrow<0.18,>=0.17, but you have pyarrow 4.0.0 which is incompatible.\n",
      "tensorflow-transform 0.26.0 requires pyarrow<0.18,>=0.17, but you have pyarrow 4.0.0 which is incompatible.\n",
      "tensorflow-probability 0.11.0 requires cloudpickle==1.3, but you have cloudpickle 1.6.0 which is incompatible.\n",
      "tensorflow-model-analysis 0.26.0 requires pyarrow<0.18,>=0.17, but you have pyarrow 4.0.0 which is incompatible.\n",
      "tensorflow-data-validation 0.26.1 requires joblib<0.15,>=0.12, but you have joblib 1.0.1 which is incompatible.\n",
      "tensorflow-data-validation 0.26.1 requires pyarrow<0.18,>=0.17, but you have pyarrow 4.0.0 which is incompatible.\n",
      "phik 0.11.2 requires scipy>=1.5.2, but you have scipy 1.4.1 which is incompatible.\n",
      "apache-beam 2.28.0 requires httplib2<0.18.0,>=0.8, but you have httplib2 0.19.1 which is incompatible.\n",
      "apache-beam 2.28.0 requires pyarrow<3.0.0,>=0.15.1, but you have pyarrow 4.0.0 which is incompatible.\u001b[0m\n",
      "Successfully installed numpy-1.18.5 scipy-1.4.1 tensorflow-2.3.0\n"
     ]
    }
   ],
   "source": [
    "# Ensure the right version of Tensorflow is installed.\n",
    "!pip freeze | grep tensorflow==2.3 || pip install tensorflow==2.3"
   ]
  },
  {
   "cell_type": "markdown",
   "metadata": {},
   "source": [
    "Kindly ignore the deprecation warnings and incompatibility errors."
   ]
  },
  {
   "cell_type": "markdown",
   "metadata": {},
   "source": [
    "Start by importing the necessary libraries for this lab."
   ]
  },
  {
   "cell_type": "code",
   "execution_count": 3,
   "metadata": {},
   "outputs": [
    {
     "name": "stdout",
     "output_type": "stream",
     "text": [
      "2.3.0\n"
     ]
    }
   ],
   "source": [
    "import datetime\n",
    "import os\n",
    "import shutil\n",
    "\n",
    "import numpy as np\n",
    "import pandas as pd\n",
    "import tensorflow as tf\n",
    "\n",
    "from matplotlib import pyplot as plt\n",
    "from tensorflow import keras\n",
    "\n",
    "from tensorflow import feature_column as fc\n",
    "\n",
    "from tensorflow.keras import Model\n",
    "from tensorflow.keras.layers import (\n",
    "    Input, Dense, DenseFeatures, concatenate)\n",
    "from tensorflow.keras.callbacks import TensorBoard\n",
    "\n",
    "print(tf.__version__)"
   ]
  },
  {
   "cell_type": "code",
   "execution_count": 5,
   "metadata": {},
   "outputs": [],
   "source": [
    "%matplotlib inline"
   ]
  },
  {
   "cell_type": "markdown",
   "metadata": {},
   "source": [
    "## Load raw data \n",
    "\n",
    "We will use the taxifare dataset, using the CSV files that we created in the first notebook of this sequence. Those files have been saved into `../data`."
   ]
  },
  {
   "cell_type": "code",
   "execution_count": 6,
   "metadata": {},
   "outputs": [
    {
     "name": "stdout",
     "output_type": "stream",
     "text": [
      "-rw-r--r-- 1 jupyter jupyter 123590 May 13 05:38 ../data/taxi-test.csv\n",
      "-rw-r--r-- 1 jupyter jupyter 579055 May 13 05:38 ../data/taxi-train.csv\n",
      "-rw-r--r-- 1 jupyter jupyter 123114 May 13 05:38 ../data/taxi-valid.csv\n"
     ]
    }
   ],
   "source": [
    "!ls -l ../data/*.csv"
   ]
  },
  {
   "cell_type": "markdown",
   "metadata": {},
   "source": [
    "## Use tf.data to read the CSV files\n",
    "\n",
    "We wrote these functions for reading data from the csv files above in the [previous notebook](2_dataset_api.ipynb). For this lab we will also include some additional engineered features in our model. In particular, we will compute the difference in latitude and longitude, as well as the Euclidean distance between the pick-up and drop-off locations. We can accomplish this by adding these new features to the features dictionary with the function `add_engineered_features` below. \n",
    "\n",
    "Note that we include a call to this function when collecting our features dict and labels in the `features_and_labels` function below as well. "
   ]
  },
  {
   "cell_type": "code",
   "execution_count": 7,
   "metadata": {},
   "outputs": [],
   "source": [
    "CSV_COLUMNS = [\n",
    "    'fare_amount',\n",
    "    'pickup_datetime',\n",
    "    'pickup_longitude',\n",
    "    'pickup_latitude',\n",
    "    'dropoff_longitude',\n",
    "    'dropoff_latitude',\n",
    "    'passenger_count',\n",
    "    'key'\n",
    "]\n",
    "LABEL_COLUMN = 'fare_amount'\n",
    "DEFAULTS = [[0.0], ['na'], [0.0], [0.0], [0.0], [0.0], [0.0], ['na']]\n",
    "UNWANTED_COLS = ['pickup_datetime', 'key']\n",
    "\n",
    "\n",
    "def features_and_labels(row_data):\n",
    "    label = row_data.pop(LABEL_COLUMN)\n",
    "    features = row_data\n",
    "        \n",
    "    for unwanted_col in UNWANTED_COLS:\n",
    "        features.pop(unwanted_col)\n",
    "\n",
    "    return features, label\n",
    "\n",
    "\n",
    "def create_dataset(pattern, batch_size=1, mode='eval'):\n",
    "    dataset = tf.data.experimental.make_csv_dataset(\n",
    "        pattern, batch_size, CSV_COLUMNS, DEFAULTS)\n",
    "\n",
    "    dataset = dataset.map(features_and_labels)\n",
    "    \n",
    "    if mode == 'train':\n",
    "        dataset = dataset.shuffle(buffer_size=1000).repeat()\n",
    "\n",
    "    # take advantage of multi-threading; 1=AUTOTUNE\n",
    "    dataset = dataset.prefetch(1)\n",
    "    return dataset"
   ]
  },
  {
   "cell_type": "markdown",
   "metadata": {},
   "source": [
    "## Feature columns for Wide and Deep model\n",
    "\n",
    "For the Wide columns, we will create feature columns of crossed features. To do this, we'll create a collection of Tensorflow feature columns to pass to the `tf.feature_column.crossed_column` constructor. The Deep columns will consist of numeric columns and the embedding columns we want to create. "
   ]
  },
  {
   "cell_type": "markdown",
   "metadata": {},
   "source": [
    "**Lab Task #1:** In the cell below, create feature columns for our wide-and-deep model. You'll need to build \n",
    "1. bucketized columns using [tf.feature_column.bucketized_column](https://www.tensorflow.org/api_docs/python/tf/feature_column/bucketized_column) for the pickup and dropoff latitude and longitude,\n",
    "2. crossed columns using [tf.feature_column.crossed_column](https://www.tensorflow.org/api_docs/python/tf/feature_column/crossed_column) for those bucketized columns, and \n",
    "3. embedding columns using [tf.feature_column.embedding_column](https://www.tensorflow.org/api_docs/python/tf/feature_column/embedding_column) for the crossed columns."
   ]
  },
  {
   "cell_type": "code",
   "execution_count": 8,
   "metadata": {},
   "outputs": [],
   "source": [
    "# TODO 1\n",
    "\n",
    "# 1. Bucketize latitudes and longitudes\n",
    "NBUCKETS = 16\n",
    "latbuckets = np.linspace(start=38.0, stop=42.0, num=NBUCKETS).tolist()\n",
    "lonbuckets = np.linspace(start=-76.0, stop=-72.0, num=NBUCKETS).tolist()\n",
    "\n",
    "fc_bucketized_plat = fc.bucketized_column(\n",
    "    source_column=fc.numeric_column(\"pickup_longitude\"), boundaries=lonbuckets)\n",
    "fc_bucketized_plon = fc.bucketized_column(\n",
    "    source_column=fc.numeric_column(\"pickup_latitude\"), boundaries=latbuckets)\n",
    "fc_bucketized_dlat = fc.bucketized_column(\n",
    "    source_column=fc.numeric_column(\"dropoff_longitude\"), boundaries=lonbuckets)\n",
    "fc_bucketized_dlon = fc.bucketized_column(\n",
    "    source_column=fc.numeric_column(\"dropoff_latitude\"), boundaries=latbuckets)\n",
    "\n",
    "# 2. Cross features for locations\n",
    "fc_crossed_dloc = fc.crossed_column(\n",
    "    [fc_bucketized_dlat, fc_bucketized_dlon],\n",
    "    hash_bucket_size=NBUCKETS * NBUCKETS)\n",
    "fc_crossed_ploc = fc.crossed_column(\n",
    "    [fc_bucketized_plat, fc_bucketized_plon],\n",
    "    hash_bucket_size=NBUCKETS * NBUCKETS)\n",
    "fc_crossed_pd_pair = fc.crossed_column(\n",
    "    [fc_crossed_dloc, fc_crossed_ploc],\n",
    "    hash_bucket_size=NBUCKETS**4)\n",
    "\n",
    "# 3. Create embedding columns for the crossed columns\n",
    "fc_pd_pair = fc.embedding_column(categorical_column=fc_crossed_pd_pair, dimension=3)\n",
    "fc_dloc = fc.embedding_column(categorical_column=fc_crossed_dloc, dimension=3)\n",
    "fc_ploc = fc.embedding_column(categorical_column=fc_crossed_ploc, dimension=3)"
   ]
  },
  {
   "cell_type": "markdown",
   "metadata": {},
   "source": [
    "### Gather list of feature columns\n",
    "\n",
    "Next we gather the list of wide and deep feature columns we'll pass to our Wide & Deep model in Tensorflow. Recall, wide columns are sparse, have linear relationship with the output while continuous columns are deep, have a complex relationship with the output. We will use our previously bucketized columns to collect crossed feature columns and sparse feature columns for our wide columns, and embedding feature columns and numeric features columns for the deep columns."
   ]
  },
  {
   "cell_type": "markdown",
   "metadata": {},
   "source": [
    "**Lab Task #2:** Collect the wide and deep columns into two separate lists. You'll have two lists: One called `wide_columns` containing the one-hot encoded features from the crossed features and one called `deep_columns` which contains numeric and embedding feature columns."
   ]
  },
  {
   "cell_type": "code",
   "execution_count": 9,
   "metadata": {},
   "outputs": [],
   "source": [
    "# TODO 2\n",
    "wide_columns = [\n",
    "    # One-hot encoded feature crosses\n",
    "    fc.indicator_column(fc_crossed_dloc),\n",
    "    fc.indicator_column(fc_crossed_ploc),\n",
    "    fc.indicator_column(fc_crossed_pd_pair)\n",
    "]\n",
    "\n",
    "deep_columns = [\n",
    "    # Embedding_column to \"group\" together ...\n",
    "    fc.embedding_column(fc_crossed_pd_pair, dimension=10),\n",
    "\n",
    "    # Numeric columns\n",
    "    fc.numeric_column(\"pickup_latitude\"),\n",
    "    fc.numeric_column(\"pickup_longitude\"),\n",
    "    fc.numeric_column(\"dropoff_longitude\"),\n",
    "    fc.numeric_column(\"dropoff_latitude\")\n",
    "]"
   ]
  },
  {
   "cell_type": "markdown",
   "metadata": {},
   "source": [
    "## Build a Wide and Deep model in Keras\n",
    "\n",
    "To build a wide-and-deep network, we connect the sparse (i.e. wide) features directly to the output node, but pass the dense (i.e. deep) features through a set of fully connected layers. Here’s that model architecture looks using the Functional API.\n",
    "\n",
    "First, we'll create our input columns using [tf.keras.layers.Input](https://www.tensorflow.org/versions/r2.0/api_docs/python/tf/keras/Input)."
   ]
  },
  {
   "cell_type": "code",
   "execution_count": 10,
   "metadata": {},
   "outputs": [],
   "source": [
    "INPUT_COLS = [\n",
    "    'pickup_longitude',\n",
    "    'pickup_latitude',\n",
    "    'dropoff_longitude',\n",
    "    'dropoff_latitude',\n",
    "    'passenger_count'\n",
    "]\n",
    "\n",
    "inputs = {colname : Input(name=colname, shape=(), dtype='float32')\n",
    "          for colname in INPUT_COLS\n",
    "}"
   ]
  },
  {
   "cell_type": "markdown",
   "metadata": {},
   "source": [
    "Then, we'll define our custom RMSE evaluation metric and build our wide and deep model."
   ]
  },
  {
   "cell_type": "markdown",
   "metadata": {},
   "source": [
    "**Lab Task #3:** Complete the code in the function `build_model` below so that it returns a compiled Keras model. The argument `dnn_hidden_units` should represent the number of units in each layer of your network. Use the Functional API to build a wide-and-deep model. Use the `deep_columns` you created above to build the deep layers and the `wide_columns` to create the wide layers. Once you have the wide and deep components, you will combine them to feed to a final fully connected layer. "
   ]
  },
  {
   "cell_type": "code",
   "execution_count": 11,
   "metadata": {},
   "outputs": [],
   "source": [
    "# Here, tf.reduce_mean computes the mean of elements across dimensions of a tensor.\n",
    "# tf.sqrt Computes element-wise square root of the input tensor.\n",
    "# tf.square computes square of x element-wise.\n",
    "def rmse(y_true, y_pred):\n",
    "    return tf.sqrt(tf.reduce_mean(tf.square(y_pred - y_true)))\n",
    "\n",
    "# TODO 3\n",
    "def build_model(dnn_hidden_units):\n",
    "    # Create the deep part of model\n",
    "    deep = DenseFeatures(deep_columns, name='deep_inputs')(inputs)\n",
    "    for num_nodes in dnn_hidden_units:\n",
    "        deep = Dense(num_nodes, activation='relu')(deep) \n",
    "\n",
    "    # Create the wide part of model\n",
    "    wide = DenseFeatures(wide_columns, name='wide_inputs')(inputs)\n",
    "\n",
    "    # Combine deep and wide parts of the model\n",
    "    combined = concatenate(inputs=[deep, wide], name='combined')\n",
    "\n",
    "    # Map the combined outputs into a single prediction value\n",
    "    output = Dense(units=1, activation=None, name='prediction')(combined)\n",
    "    \n",
    "    # Finalize the model\n",
    "    model = Model(inputs=list(inputs.values()), outputs=output)\n",
    "\n",
    "    # Compile the keras model\n",
    "    model.compile(optimizer=\"adam\", loss=\"mse\", metrics=[rmse, \"mse\"])\n",
    "    \n",
    "    return model"
   ]
  },
  {
   "cell_type": "markdown",
   "metadata": {},
   "source": [
    "Next, we can call the `build_model` to create the model. Here we'll have two hidden layers, each with 10 neurons, for the deep part of our model. We can also use `plot_model` to see a diagram of the model we've created."
   ]
  },
  {
   "cell_type": "code",
   "execution_count": 12,
   "metadata": {},
   "outputs": [
    {
     "data": {
      "image/png": "[encoded data removed]",
      "text/plain": [
       "<IPython.core.display.Image object>"
      ]
     },
     "execution_count": 12,
     "metadata": {},
     "output_type": "execute_result"
    }
   ],
   "source": [
    "HIDDEN_UNITS = [10,10]\n",
    "\n",
    "model = build_model(dnn_hidden_units=HIDDEN_UNITS)\n",
    "\n",
    "tf.keras.utils.plot_model(model, show_shapes=False, rankdir='LR')"
   ]
  },
  {
   "cell_type": "markdown",
   "metadata": {},
   "source": [
    "Next, we'll set up our training variables, create our datasets for training and validation, and train our model.\n",
    "\n",
    "(We refer you the the blog post [ML Design Pattern #3: Virtual Epochs](https://medium.com/google-cloud/ml-design-pattern-3-virtual-epochs-f842296de730) for further details on why express the training in terms of `NUM_TRAIN_EXAMPLES` and `NUM_EVALS` and why, in this training code, the number of epochs is really equal to the number of evaluations we perform.)"
   ]
  },
  {
   "cell_type": "code",
   "execution_count": 13,
   "metadata": {},
   "outputs": [],
   "source": [
    "BATCH_SIZE = 1000\n",
    "NUM_TRAIN_EXAMPLES = 10000 * 5  # training dataset will repeat, wrap around\n",
    "NUM_EVALS = 50  # how many times to evaluate\n",
    "NUM_EVAL_EXAMPLES = 10000  # enough to get a reasonable sample\n",
    "\n",
    "trainds = create_dataset(\n",
    "    pattern='../data/taxi-train*',\n",
    "    batch_size=BATCH_SIZE,\n",
    "    mode='train')\n",
    "\n",
    "evalds = create_dataset(\n",
    "    pattern='../data/taxi-valid*',\n",
    "    batch_size=BATCH_SIZE,\n",
    "    mode='eval').take(NUM_EVAL_EXAMPLES//1000)"
   ]
  },
  {
   "cell_type": "code",
   "execution_count": 14,
   "metadata": {},
   "outputs": [
    {
     "name": "stdout",
     "output_type": "stream",
     "text": [
      "Epoch 1/50\n",
      "1/1 [==============================] - 2s 2s/step - loss: 227.9599 - rmse: 15.0983 - mse: 227.9599 - val_loss: 246.4482 - val_rmse: 15.6918 - val_mse: 246.4482\n",
      "Epoch 2/50\n",
      "WARNING:tensorflow:From /opt/conda/lib/python3.7/site-packages/tensorflow/python/ops/summary_ops_v2.py:1277: stop (from tensorflow.python.eager.profiler) is deprecated and will be removed after 2020-07-01.\n",
      "Instructions for updating:\n",
      "use `tf.profiler.experimental.stop` instead.\n",
      "1/1 [==============================] - 2s 2s/step - loss: 230.5508 - rmse: 15.1839 - mse: 230.5508 - val_loss: 244.3553 - val_rmse: 15.6292 - val_mse: 244.3553\n",
      "Epoch 3/50\n",
      "1/1 [==============================] - 2s 2s/step - loss: 229.9823 - rmse: 15.1652 - mse: 229.9823 - val_loss: 239.5645 - val_rmse: 15.4688 - val_mse: 239.5645\n",
      "Epoch 4/50\n",
      "1/1 [==============================] - 2s 2s/step - loss: 237.5025 - rmse: 15.4111 - mse: 237.5025 - val_loss: 238.2607 - val_rmse: 15.4220 - val_mse: 238.2607\n",
      "Epoch 5/50\n",
      "1/1 [==============================] - 2s 2s/step - loss: 189.7648 - rmse: 13.7755 - mse: 189.7648 - val_loss: 236.4100 - val_rmse: 15.3560 - val_mse: 236.4100\n",
      "Epoch 6/50\n",
      "1/1 [==============================] - 2s 2s/step - loss: 200.6854 - rmse: 14.1663 - mse: 200.6854 - val_loss: 238.7668 - val_rmse: 15.4477 - val_mse: 238.7668\n",
      "Epoch 7/50\n",
      "1/1 [==============================] - 2s 2s/step - loss: 229.7637 - rmse: 15.1580 - mse: 229.7637 - val_loss: 232.5732 - val_rmse: 15.2412 - val_mse: 232.5732\n",
      "Epoch 8/50\n",
      "1/1 [==============================] - 2s 2s/step - loss: 182.8050 - rmse: 13.5205 - mse: 182.8050 - val_loss: 232.8710 - val_rmse: 15.2548 - val_mse: 232.8710\n",
      "Epoch 9/50\n",
      "1/1 [==============================] - 2s 2s/step - loss: 186.4058 - rmse: 13.6531 - mse: 186.4058 - val_loss: 229.2812 - val_rmse: 15.1353 - val_mse: 229.2812\n",
      "Epoch 10/50\n",
      "1/1 [==============================] - 2s 2s/step - loss: 188.3336 - rmse: 13.7235 - mse: 188.3336 - val_loss: 227.0581 - val_rmse: 15.0601 - val_mse: 227.0581\n",
      "Epoch 11/50\n",
      "1/1 [==============================] - 2s 2s/step - loss: 177.6376 - rmse: 13.3281 - mse: 177.6376 - val_loss: 227.4352 - val_rmse: 15.0572 - val_mse: 227.4352\n",
      "Epoch 12/50\n",
      "1/1 [==============================] - 2s 2s/step - loss: 219.9693 - rmse: 14.8314 - mse: 219.9693 - val_loss: 223.9815 - val_rmse: 14.9501 - val_mse: 223.9815\n",
      "Epoch 13/50\n",
      "1/1 [==============================] - 2s 2s/step - loss: 192.0113 - rmse: 13.8568 - mse: 192.0113 - val_loss: 223.1877 - val_rmse: 14.9372 - val_mse: 223.1877\n",
      "Epoch 14/50\n",
      "1/1 [==============================] - 2s 2s/step - loss: 209.8261 - rmse: 14.4854 - mse: 209.8261 - val_loss: 221.5034 - val_rmse: 14.8602 - val_mse: 221.5034\n",
      "Epoch 15/50\n",
      "1/1 [==============================] - 2s 2s/step - loss: 189.7850 - rmse: 13.7762 - mse: 189.7850 - val_loss: 219.0428 - val_rmse: 14.7876 - val_mse: 219.0428\n",
      "Epoch 16/50\n",
      "1/1 [==============================] - 2s 2s/step - loss: 217.0167 - rmse: 14.7315 - mse: 217.0167 - val_loss: 217.2056 - val_rmse: 14.7112 - val_mse: 217.2057\n",
      "Epoch 17/50\n",
      "1/1 [==============================] - 2s 2s/step - loss: 162.6791 - rmse: 12.7546 - mse: 162.6791 - val_loss: 215.8156 - val_rmse: 14.6878 - val_mse: 215.8156\n",
      "Epoch 18/50\n",
      "1/1 [==============================] - 2s 2s/step - loss: 177.3893 - rmse: 13.3188 - mse: 177.3893 - val_loss: 212.3482 - val_rmse: 14.5608 - val_mse: 212.3482\n",
      "Epoch 19/50\n",
      "1/1 [==============================] - 2s 2s/step - loss: 188.2915 - rmse: 13.7219 - mse: 188.2915 - val_loss: 211.5447 - val_rmse: 14.5348 - val_mse: 211.5447\n",
      "Epoch 20/50\n",
      "1/1 [==============================] - 2s 2s/step - loss: 175.4088 - rmse: 13.2442 - mse: 175.4088 - val_loss: 209.1027 - val_rmse: 14.4510 - val_mse: 209.1027\n",
      "Epoch 21/50\n",
      "1/1 [==============================] - 2s 2s/step - loss: 191.5168 - rmse: 13.8390 - mse: 191.5168 - val_loss: 206.9688 - val_rmse: 14.3809 - val_mse: 206.9688\n",
      "Epoch 22/50\n",
      "1/1 [==============================] - 2s 2s/step - loss: 150.4250 - rmse: 12.2648 - mse: 150.4250 - val_loss: 207.9590 - val_rmse: 14.4102 - val_mse: 207.9590\n",
      "Epoch 23/50\n",
      "1/1 [==============================] - 2s 2s/step - loss: 156.6734 - rmse: 12.5169 - mse: 156.6734 - val_loss: 198.8413 - val_rmse: 14.0834 - val_mse: 198.8413\n",
      "Epoch 24/50\n",
      "1/1 [==============================] - 2s 2s/step - loss: 172.5771 - rmse: 13.1369 - mse: 172.5771 - val_loss: 199.1590 - val_rmse: 14.0892 - val_mse: 199.1590\n",
      "Epoch 25/50\n",
      "1/1 [==============================] - 2s 2s/step - loss: 161.2453 - rmse: 12.6982 - mse: 161.2453 - val_loss: 196.6697 - val_rmse: 14.0173 - val_mse: 196.6697\n",
      "Epoch 26/50\n",
      "1/1 [==============================] - 2s 2s/step - loss: 157.3796 - rmse: 12.5451 - mse: 157.3796 - val_loss: 193.4633 - val_rmse: 13.9071 - val_mse: 193.4633\n",
      "Epoch 27/50\n",
      "1/1 [==============================] - 2s 2s/step - loss: 145.2443 - rmse: 12.0517 - mse: 145.2443 - val_loss: 189.7600 - val_rmse: 13.7724 - val_mse: 189.7600\n",
      "Epoch 28/50\n",
      "1/1 [==============================] - 2s 2s/step - loss: 172.6786 - rmse: 13.1407 - mse: 172.6786 - val_loss: 188.4126 - val_rmse: 13.7057 - val_mse: 188.4126\n",
      "Epoch 29/50\n",
      "1/1 [==============================] - 2s 2s/step - loss: 152.2427 - rmse: 12.3387 - mse: 152.2427 - val_loss: 186.5764 - val_rmse: 13.6536 - val_mse: 186.5764\n",
      "Epoch 30/50\n",
      "1/1 [==============================] - 2s 2s/step - loss: 148.4935 - rmse: 12.1858 - mse: 148.4935 - val_loss: 183.5066 - val_rmse: 13.5433 - val_mse: 183.5066\n",
      "Epoch 31/50\n",
      "1/1 [==============================] - 2s 2s/step - loss: 168.6347 - rmse: 12.9859 - mse: 168.6347 - val_loss: 180.6646 - val_rmse: 13.4170 - val_mse: 180.6646\n",
      "Epoch 32/50\n",
      "1/1 [==============================] - 2s 2s/step - loss: 144.6768 - rmse: 12.0282 - mse: 144.6768 - val_loss: 179.5591 - val_rmse: 13.3947 - val_mse: 179.5591\n",
      "Epoch 33/50\n",
      "1/1 [==============================] - 2s 2s/step - loss: 164.9598 - rmse: 12.8437 - mse: 164.9598 - val_loss: 176.6570 - val_rmse: 13.2837 - val_mse: 176.6570\n",
      "Epoch 34/50\n",
      "1/1 [==============================] - 2s 2s/step - loss: 138.3593 - rmse: 11.7626 - mse: 138.3593 - val_loss: 174.0796 - val_rmse: 13.1852 - val_mse: 174.0796\n",
      "Epoch 35/50\n",
      "1/1 [==============================] - 2s 2s/step - loss: 113.6663 - rmse: 10.6614 - mse: 113.6663 - val_loss: 173.4433 - val_rmse: 13.1612 - val_mse: 173.4433\n",
      "Epoch 36/50\n",
      "1/1 [==============================] - 2s 2s/step - loss: 143.8576 - rmse: 11.9941 - mse: 143.8576 - val_loss: 167.7799 - val_rmse: 12.9411 - val_mse: 167.7799\n",
      "Epoch 37/50\n",
      "1/1 [==============================] - 2s 2s/step - loss: 154.8451 - rmse: 12.4437 - mse: 154.8451 - val_loss: 163.6502 - val_rmse: 12.7710 - val_mse: 163.6502\n",
      "Epoch 38/50\n",
      "1/1 [==============================] - 2s 2s/step - loss: 158.9700 - rmse: 12.6083 - mse: 158.9700 - val_loss: 164.0696 - val_rmse: 12.7816 - val_mse: 164.0696\n",
      "Epoch 39/50\n",
      "1/1 [==============================] - 2s 2s/step - loss: 141.8006 - rmse: 11.9080 - mse: 141.8006 - val_loss: 160.8347 - val_rmse: 12.6792 - val_mse: 160.8347\n",
      "Epoch 40/50\n",
      "1/1 [==============================] - 2s 2s/step - loss: 149.5241 - rmse: 12.2280 - mse: 149.5241 - val_loss: 160.3760 - val_rmse: 12.6363 - val_mse: 160.3760\n",
      "Epoch 41/50\n",
      "1/1 [==============================] - 2s 2s/step - loss: 138.1340 - rmse: 11.7530 - mse: 138.1340 - val_loss: 156.5435 - val_rmse: 12.4919 - val_mse: 156.5435\n",
      "Epoch 42/50\n",
      "1/1 [==============================] - 2s 2s/step - loss: 126.4092 - rmse: 11.2432 - mse: 126.4092 - val_loss: 151.4806 - val_rmse: 12.3027 - val_mse: 151.4806\n",
      "Epoch 43/50\n",
      "1/1 [==============================] - 2s 2s/step - loss: 137.6356 - rmse: 11.7318 - mse: 137.6356 - val_loss: 153.7202 - val_rmse: 12.3873 - val_mse: 153.7202\n",
      "Epoch 44/50\n",
      "1/1 [==============================] - 2s 2s/step - loss: 111.6892 - rmse: 10.5683 - mse: 111.6892 - val_loss: 146.8277 - val_rmse: 12.0968 - val_mse: 146.8277\n",
      "Epoch 45/50\n",
      "1/1 [==============================] - 2s 2s/step - loss: 108.3749 - rmse: 10.4103 - mse: 108.3749 - val_loss: 144.8028 - val_rmse: 12.0262 - val_mse: 144.8028\n",
      "Epoch 46/50\n",
      "1/1 [==============================] - 2s 2s/step - loss: 134.0676 - rmse: 11.5788 - mse: 134.0676 - val_loss: 141.6213 - val_rmse: 11.8952 - val_mse: 141.6213\n",
      "Epoch 47/50\n",
      "1/1 [==============================] - 2s 2s/step - loss: 117.1893 - rmse: 10.8254 - mse: 117.1893 - val_loss: 140.9988 - val_rmse: 11.8596 - val_mse: 140.9988\n",
      "Epoch 48/50\n",
      "1/1 [==============================] - 2s 2s/step - loss: 104.2534 - rmse: 10.2105 - mse: 104.2534 - val_loss: 137.4283 - val_rmse: 11.7150 - val_mse: 137.4283\n",
      "Epoch 49/50\n",
      "1/1 [==============================] - 2s 2s/step - loss: 97.4243 - rmse: 9.8704 - mse: 97.4243 - val_loss: 137.8010 - val_rmse: 11.7182 - val_mse: 137.8010\n",
      "Epoch 50/50\n",
      "1/1 [==============================] - 2s 2s/step - loss: 124.2674 - rmse: 11.1475 - mse: 124.2674 - val_loss: 134.2777 - val_rmse: 11.5814 - val_mse: 134.2777\n",
      "CPU times: user 3min 8s, sys: 2min 17s, total: 5min 26s\n",
      "Wall time: 1min 55s\n"
     ]
    }
   ],
   "source": [
    "%%time\n",
    "steps_per_epoch = NUM_TRAIN_EXAMPLES // (BATCH_SIZE * NUM_EVALS)\n",
    "\n",
    "OUTDIR = \"./taxi_trained\"\n",
    "shutil.rmtree(path=OUTDIR, ignore_errors=True) # start fresh each time\n",
    "\n",
    "history = model.fit(x=trainds,\n",
    "                    steps_per_epoch=steps_per_epoch,\n",
    "                    epochs=NUM_EVALS,\n",
    "                    validation_data=evalds,\n",
    "                    callbacks=[TensorBoard(OUTDIR)])"
   ]
  },
  {
   "cell_type": "markdown",
   "metadata": {},
   "source": [
    "Just as before, we can examine the history to see how the RMSE changes through training on the train set and validation set. "
   ]
  },
  {
   "cell_type": "code",
   "execution_count": null,
   "metadata": {},
   "outputs": [
    {
     "data": {
      "image/png": "[encoded data removed]",
      "text/plain": [
       "<IPython.core.display.Image object>"
      ]
     },
     "execution_count": 16,
     "metadata": {
      "tags": []
     },
     "output_type": "execute_result"
    }
   ],
   "source": [
    "RMSE_COLS = ['rmse', 'val_rmse']\n",
    "\n",
    "pd.DataFrame(history.history)[RMSE_COLS].plot()"
   ]
  },
  {
   "cell_type": "markdown",
   "metadata": {},
   "source": [
    "Copyright 2019 Google Inc. Licensed under the Apache License, Version 2.0 (the \"License\"); you may not use this file except in compliance with the License. You may obtain a copy of the License at http://www.apache.org/licenses/LICENSE-2.0 Unless required by applicable law or agreed to in writing, software distributed under the License is distributed on an \"AS IS\" BASIS, WITHOUT WARRANTIES OR CONDITIONS OF ANY KIND, either express or implied. See the License for the specific language governing permissions and limitations under the License"
   ]
  }
 ],
 "metadata": {
  "environment": {
   "name": "tf2-gpu.2-3.m69",
   "type": "gcloud",
   "uri": "gcr.io/deeplearning-platform-release/tf2-gpu.2-3:m69"
  },
  "kernelspec": {
   "display_name": "Python 3",
   "language": "python",
   "name": "python3"
  },
  "language_info": {
   "codemirror_mode": {
    "name": "ipython",
    "version": 3
   },
   "file_extension": ".py",
   "mimetype": "text/x-python",
   "name": "python",
   "nbconvert_exporter": "python",
   "pygments_lexer": "ipython3",
   "version": "3.7.10"
  }
 },
 "nbformat": 4,
 "nbformat_minor": 4
}
